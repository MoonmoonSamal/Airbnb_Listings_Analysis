{
 "cells": [
  {
   "cell_type": "code",
   "execution_count": 1,
   "id": "375cb3c3-5ece-4722-9675-e9925ad22222",
   "metadata": {},
   "outputs": [],
   "source": [
    "from bs4 import BeautifulSoup\n",
    "from selenium import webdriver\n",
    "from selenium.webdriver.common.by import By\n",
    "from selenium.webdriver.support.ui import WebDriverWait\n",
    "from selenium.webdriver.support import expected_conditions as EC\n",
    "import pandas as pd\n",
    "import time"
   ]
  },
  {
   "cell_type": "code",
   "execution_count": 2,
   "id": "4a43cb97-1fd4-4ed5-9003-034b31b1c0cf",
   "metadata": {},
   "outputs": [],
   "source": [
    "driver = webdriver.Chrome()\n",
    "wait = WebDriverWait(driver, 15, poll_frequency=1)\n",
    "base_url = 'https://www.airbnb.co.in/s/Mumbai--India/homes?place_id=ChIJwe1EZjDG5zsRaYxkjY_tpF0&refinement_paths%5B%5D=%2Fhomes'\n",
    "driver.get(base_url)\n",
    "driver.maximize_window()"
   ]
  },
  {
   "cell_type": "code",
   "execution_count": 3,
   "id": "452609b2-9d06-4f74-8520-2c5f273fa7bc",
   "metadata": {},
   "outputs": [],
   "source": [
    "num_pages = 15\n",
    "all_data = []"
   ]
  },
  {
   "cell_type": "code",
   "execution_count": null,
   "id": "f98d0910-9754-4ad9-adf2-6fb135d1bd14",
   "metadata": {},
   "outputs": [],
   "source": [
    "for _ in range(num_pages):\n",
    "    try:\n",
    "        wait.until(EC.presence_of_all_elements_located((By.CSS_SELECTOR, \"div.lxq01kf\")))\n",
    "\n",
    "        all_items = driver.find_elements(By.CSS_SELECTOR, \"div.lxq01kf\")\n",
    "        if not all_items:\n",
    "            break\n",
    "        \n",
    "        for item in all_items:\n",
    "            name = item.find_element(By.CSS_SELECTOR, \"div.t1jojoys\").text.strip() if item.find_elements(By.CSS_SELECTOR, \"div.t1jojoys\") else ''\n",
    "            description = item.find_element(By.CSS_SELECTOR, \"span.t6mzqp7\").text.strip() if item.find_elements(By.CSS_SELECTOR, \"span.t6mzqp7\") else ''\n",
    "            rating_reviews = item.find_element(By.CSS_SELECTOR, \"span.r4a59j5\").text.strip() if item.find_elements(By.CSS_SELECTOR, \"span.r4a59j5\") else '' \n",
    "\n",
    "            # Handle \"New\" or other non-numeric values in rating and reviews\n",
    "            if \"out\" in rating_reviews:  \n",
    "                rating = rating_reviews.split(\" out\")[0]\n",
    "                reviews = rating_reviews.split(\",\")[-1].strip().split(\" \")[0] \n",
    "            else:\n",
    "                rating = '0'\n",
    "                reviews = '0' \n",
    "\n",
    "            price = item.find_element(By.CSS_SELECTOR, \"span._11jcbg2\").text.strip().replace(\"₹\", \"\").strip() if item.find_elements(By.CSS_SELECTOR, \"span._11jcbg2\") else '' \n",
    "\n",
    "            # Extract place name from the name (assumes last word in name is the place)\n",
    "            place = name.split()[-1] if name else ''\n",
    "\n",
    "            all_data.append({\n",
    "                'Name': name,\n",
    "                'Description': description,\n",
    "                'Price/Night': price,\n",
    "                'Rating': rating,\n",
    "                'Reviews': reviews,\n",
    "                'Place': place \n",
    "            })\n",
    "\n",
    "        # Handling pagination by clicking the \"Next\" button\n",
    "        try:\n",
    "            next_button = wait.until(EC.element_to_be_clickable((By.CSS_SELECTOR, \"a[aria-label='Next']\")))\n",
    "            driver.execute_script(\"arguments[0].scrollIntoView();\", next_button)\n",
    "            \n",
    "            if 'disabled' not in next_button.get_attribute('class'):\n",
    "                next_button.click()\n",
    "                time.sleep(7) \n",
    "            else:\n",
    "                break \n",
    "\n",
    "        except Exception:\n",
    "            break \n",
    "\n",
    "    except Exception:\n",
    "        break\n",
    "\n",
    "driver.quit()\n"
   ]
  },
  {
   "cell_type": "code",
   "execution_count": null,
   "id": "274901cb-92b1-4832-80ee-c49e62551f8d",
   "metadata": {},
   "outputs": [],
   "source": [
    "df = pd.DataFrame(all_data)\n",
    "df"
   ]
  },
  {
   "cell_type": "code",
   "execution_count": null,
   "id": "edc82784-6c86-4453-8731-95438cef83b9",
   "metadata": {},
   "outputs": [],
   "source": [
    "df.to_csv('airbnb_Varanasi_listings.csv', index=False, encoding='utf-8')"
   ]
  },
  {
   "cell_type": "code",
   "execution_count": null,
   "id": "067338a9-7044-40ce-9277-3cc7d2e51b45",
   "metadata": {},
   "outputs": [],
   "source": []
  }
 ],
 "metadata": {
  "kernelspec": {
   "display_name": "Python 3 (ipykernel)",
   "language": "python",
   "name": "python3"
  },
  "language_info": {
   "codemirror_mode": {
    "name": "ipython",
    "version": 3
   },
   "file_extension": ".py",
   "mimetype": "text/x-python",
   "name": "python",
   "nbconvert_exporter": "python",
   "pygments_lexer": "ipython3",
   "version": "3.12.4"
  }
 },
 "nbformat": 4,
 "nbformat_minor": 5
}
